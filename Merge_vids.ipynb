{
 "cells": [
  {
   "cell_type": "code",
   "execution_count": null,
   "id": "36edf0c5-1b22-42bb-bad1-950c060b6f13",
   "metadata": {},
   "outputs": [],
   "source": [
    "import os\n",
    "import cv2\n",
    "import shutil\n",
    "import deeplabcut\n",
    "import numpy as np\n",
    "import pandas as pd\n",
    "import subprocess\n",
    "import datetime \n",
    "import math\n",
    "from joblib import Parallel, delayed\n",
    "import glob\n",
    "\n",
    "import argparse\n",
    "from matplotlib import pyplot as plt\n",
    "from scipy.linalg import fractional_matrix_power"
   ]
  },
  {
   "cell_type": "code",
   "execution_count": null,
   "id": "747c237f-f7d2-4793-959b-a6099f2aeaf8",
   "metadata": {},
   "outputs": [],
   "source": [
    "os.chdir('/home/yramakrishna/DeepLabCut/conda-environments/Codes/Stats_Analysis_AGC/All_vids/')\n",
    "os.getcwd()\n",
    "vid_dir = '/home/yramakrishna/DeepLabCut/conda-environments/Codes/Stats_Analysis_AGC/Videos_mac'\n",
    "to_dir = os.path.join(os.getcwd(), os.path.basename(vid_dir))\n",
    "path = []\n",
    "for file in os.listdir(os.path.join(os.path.dirname(to_dir), 'Conv_vids')):\n",
    "    if file.endswith(\".mp4\"):\n",
    "        path.append(os.path.join(os.path.join(os.path.dirname(to_dir), 'Conv_vids', file)))\n",
    "\n",
    "with open(r'files_to_join.txt', 'w') as fp:\n",
    "    for item in path:\n",
    "        # write each item on a new line\n",
    "        fp.write(f\"\\n file '{item}'\")\n",
    "    print('Done')"
   ]
  },
  {
   "cell_type": "code",
   "execution_count": null,
   "id": "5b290f8c-3f6b-4e31-9bfc-d05553aae166",
   "metadata": {},
   "outputs": [],
   "source": [
    "os.getcwd()"
   ]
  },
  {
   "cell_type": "code",
   "execution_count": null,
   "id": "f39d5eed-0216-491f-b02a-aa11fb47c01e",
   "metadata": {
    "tags": []
   },
   "outputs": [],
   "source": [
    "input_file = '/home/yramakrishna/DeepLabCut/conda-environments/Codes/Stats_Analysis_AGC/All_vids/files_to_join.txt'\n",
    "output_file = '/home/yramakrishna/DeepLabCut/conda-environments/Codes/Stats_Analysis_AGC/All_vids/combined_vids.mp4'\n",
    "\n",
    "command = f\"ffmpeg -f concat -safe 0 -i {input_file} -c copy {output_file}\"\n",
    "subprocess.call(command, shell=True)"
   ]
  },
  {
   "cell_type": "code",
   "execution_count": null,
   "id": "b80dc15f-ede2-404d-b6b7-242eaa98aba9",
   "metadata": {},
   "outputs": [],
   "source": []
  }
 ],
 "metadata": {
  "kernelspec": {
   "display_name": "Python 3 (ipykernel)",
   "language": "python",
   "name": "python3"
  },
  "language_info": {
   "codemirror_mode": {
    "name": "ipython",
    "version": 3
   },
   "file_extension": ".py",
   "mimetype": "text/x-python",
   "name": "python",
   "nbconvert_exporter": "python",
   "pygments_lexer": "ipython3",
   "version": "3.9.18"
  }
 },
 "nbformat": 4,
 "nbformat_minor": 5
}
